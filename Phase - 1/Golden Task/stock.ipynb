{
 "cells": [
  {
   "cell_type": "markdown",
   "id": "be1f7914-9223-403f-a3ea-f006e4bf4ab4",
   "metadata": {},
   "source": [
    "# Predictive Modeling of TATA Motors Stock Price Movements"
   ]
  },
  {
   "cell_type": "markdown",
   "id": "0164bb9e-553d-4250-83ab-913e49b8b44e",
   "metadata": {},
   "source": [
    "Embark on a time series analysis project using a dataset with a time\n",
    "component, specifically historical stock prices. The objective is to uncover\n",
    "patterns, trends, and insights from the temporal data, enabling a better\n",
    "understanding of stock price movements over time."
   ]
  },
  {
   "cell_type": "markdown",
   "id": "dbe30ae3-08b9-47db-8183-8adb221b738d",
   "metadata": {},
   "source": [
    "**Step -1 EDA (Exploratory Data analysis)**"
   ]
  },
  {
   "cell_type": "code",
   "execution_count": 1,
   "id": "e2213fc9-829f-46b1-870c-ff0f23b03b4c",
   "metadata": {},
   "outputs": [],
   "source": [
    "# Import Important Library for Model\n",
    "import numpy as np\n",
    "import pandas as pd\n",
    "import matplotlib.pyplot as plt\n",
    "import seaborn as sns\n",
    "\n",
    "from sklearn.model_selection import train_test_split\n",
    "from sklearn.preprocessing import StandardScaler\n",
    "from sklearn.linear_model import LogisticRegression\n",
    "from sklearn.svm import SVC\n",
    "from xgboost import XGBClassifier\n",
    "from sklearn import metrics\n",
    "\n",
    "import warnings\n",
    "warnings.filterwarnings('ignore')"
   ]
  },
  {
   "cell_type": "code",
   "execution_count": 2,
   "id": "69f17f41-48b2-47d6-beaf-994e8e6981ee",
   "metadata": {},
   "outputs": [],
   "source": [
    "#load the dataset\n",
    "tata = pd.read_csv('Tata_Motors_Ltd._historical_data.csv')"
   ]
  },
  {
   "cell_type": "code",
   "execution_count": 3,
   "id": "52ace522-0657-41a7-8550-acf004488e68",
   "metadata": {},
   "outputs": [
    {
     "data": {
      "text/html": [
       "<div>\n",
       "<style scoped>\n",
       "    .dataframe tbody tr th:only-of-type {\n",
       "        vertical-align: middle;\n",
       "    }\n",
       "\n",
       "    .dataframe tbody tr th {\n",
       "        vertical-align: top;\n",
       "    }\n",
       "\n",
       "    .dataframe thead th {\n",
       "        text-align: right;\n",
       "    }\n",
       "</style>\n",
       "<table border=\"1\" class=\"dataframe\">\n",
       "  <thead>\n",
       "    <tr style=\"text-align: right;\">\n",
       "      <th></th>\n",
       "      <th>Date</th>\n",
       "      <th>Open</th>\n",
       "      <th>High</th>\n",
       "      <th>Low</th>\n",
       "      <th>Close</th>\n",
       "      <th>Adj Close</th>\n",
       "      <th>Volume</th>\n",
       "    </tr>\n",
       "  </thead>\n",
       "  <tbody>\n",
       "    <tr>\n",
       "      <th>0</th>\n",
       "      <td>2000-01-03</td>\n",
       "      <td>43.5</td>\n",
       "      <td>43.5</td>\n",
       "      <td>43.5</td>\n",
       "      <td>43.5</td>\n",
       "      <td>16.114737</td>\n",
       "      <td>0</td>\n",
       "    </tr>\n",
       "    <tr>\n",
       "      <th>1</th>\n",
       "      <td>2000-01-04</td>\n",
       "      <td>43.5</td>\n",
       "      <td>43.5</td>\n",
       "      <td>43.5</td>\n",
       "      <td>43.5</td>\n",
       "      <td>16.114737</td>\n",
       "      <td>0</td>\n",
       "    </tr>\n",
       "    <tr>\n",
       "      <th>2</th>\n",
       "      <td>2000-01-05</td>\n",
       "      <td>43.5</td>\n",
       "      <td>43.5</td>\n",
       "      <td>43.5</td>\n",
       "      <td>43.5</td>\n",
       "      <td>16.114737</td>\n",
       "      <td>0</td>\n",
       "    </tr>\n",
       "    <tr>\n",
       "      <th>3</th>\n",
       "      <td>2000-01-06</td>\n",
       "      <td>43.5</td>\n",
       "      <td>43.5</td>\n",
       "      <td>43.5</td>\n",
       "      <td>43.5</td>\n",
       "      <td>16.114737</td>\n",
       "      <td>0</td>\n",
       "    </tr>\n",
       "    <tr>\n",
       "      <th>4</th>\n",
       "      <td>2000-01-07</td>\n",
       "      <td>43.5</td>\n",
       "      <td>43.5</td>\n",
       "      <td>43.5</td>\n",
       "      <td>43.5</td>\n",
       "      <td>16.114737</td>\n",
       "      <td>0</td>\n",
       "    </tr>\n",
       "  </tbody>\n",
       "</table>\n",
       "</div>"
      ],
      "text/plain": [
       "         Date  Open  High   Low  Close  Adj Close  Volume\n",
       "0  2000-01-03  43.5  43.5  43.5   43.5  16.114737       0\n",
       "1  2000-01-04  43.5  43.5  43.5   43.5  16.114737       0\n",
       "2  2000-01-05  43.5  43.5  43.5   43.5  16.114737       0\n",
       "3  2000-01-06  43.5  43.5  43.5   43.5  16.114737       0\n",
       "4  2000-01-07  43.5  43.5  43.5   43.5  16.114737       0"
      ]
     },
     "execution_count": 3,
     "metadata": {},
     "output_type": "execute_result"
    }
   ],
   "source": [
    "#lets display the top dataset\n",
    "tata.head()"
   ]
  },
  {
   "cell_type": "code",
   "execution_count": 4,
   "id": "65623f31-3171-4145-805c-7f3162a46c16",
   "metadata": {},
   "outputs": [
    {
     "data": {
      "text/html": [
       "<div>\n",
       "<style scoped>\n",
       "    .dataframe tbody tr th:only-of-type {\n",
       "        vertical-align: middle;\n",
       "    }\n",
       "\n",
       "    .dataframe tbody tr th {\n",
       "        vertical-align: top;\n",
       "    }\n",
       "\n",
       "    .dataframe thead th {\n",
       "        text-align: right;\n",
       "    }\n",
       "</style>\n",
       "<table border=\"1\" class=\"dataframe\">\n",
       "  <thead>\n",
       "    <tr style=\"text-align: right;\">\n",
       "      <th></th>\n",
       "      <th>Date</th>\n",
       "      <th>Open</th>\n",
       "      <th>High</th>\n",
       "      <th>Low</th>\n",
       "      <th>Close</th>\n",
       "      <th>Adj Close</th>\n",
       "      <th>Volume</th>\n",
       "    </tr>\n",
       "  </thead>\n",
       "  <tbody>\n",
       "    <tr>\n",
       "      <th>5881</th>\n",
       "      <td>2023-08-28</td>\n",
       "      <td>606.299988</td>\n",
       "      <td>608.400024</td>\n",
       "      <td>601.549988</td>\n",
       "      <td>602.200012</td>\n",
       "      <td>602.200012</td>\n",
       "      <td>1317553</td>\n",
       "    </tr>\n",
       "    <tr>\n",
       "      <th>5882</th>\n",
       "      <td>2023-08-29</td>\n",
       "      <td>604.900024</td>\n",
       "      <td>610.549988</td>\n",
       "      <td>603.000000</td>\n",
       "      <td>606.549988</td>\n",
       "      <td>606.549988</td>\n",
       "      <td>524651</td>\n",
       "    </tr>\n",
       "    <tr>\n",
       "      <th>5883</th>\n",
       "      <td>2023-08-30</td>\n",
       "      <td>611.200012</td>\n",
       "      <td>613.000000</td>\n",
       "      <td>604.799988</td>\n",
       "      <td>605.549988</td>\n",
       "      <td>605.549988</td>\n",
       "      <td>523411</td>\n",
       "    </tr>\n",
       "    <tr>\n",
       "      <th>5884</th>\n",
       "      <td>2023-08-31</td>\n",
       "      <td>608.049988</td>\n",
       "      <td>609.650024</td>\n",
       "      <td>599.099976</td>\n",
       "      <td>601.099976</td>\n",
       "      <td>601.099976</td>\n",
       "      <td>1242644</td>\n",
       "    </tr>\n",
       "    <tr>\n",
       "      <th>5885</th>\n",
       "      <td>2023-09-01</td>\n",
       "      <td>603.549988</td>\n",
       "      <td>614.799988</td>\n",
       "      <td>601.650024</td>\n",
       "      <td>611.200012</td>\n",
       "      <td>611.200012</td>\n",
       "      <td>1454215</td>\n",
       "    </tr>\n",
       "  </tbody>\n",
       "</table>\n",
       "</div>"
      ],
      "text/plain": [
       "            Date        Open        High         Low       Close   Adj Close  \\\n",
       "5881  2023-08-28  606.299988  608.400024  601.549988  602.200012  602.200012   \n",
       "5882  2023-08-29  604.900024  610.549988  603.000000  606.549988  606.549988   \n",
       "5883  2023-08-30  611.200012  613.000000  604.799988  605.549988  605.549988   \n",
       "5884  2023-08-31  608.049988  609.650024  599.099976  601.099976  601.099976   \n",
       "5885  2023-09-01  603.549988  614.799988  601.650024  611.200012  611.200012   \n",
       "\n",
       "       Volume  \n",
       "5881  1317553  \n",
       "5882   524651  \n",
       "5883   523411  \n",
       "5884  1242644  \n",
       "5885  1454215  "
      ]
     },
     "execution_count": 4,
     "metadata": {},
     "output_type": "execute_result"
    }
   ],
   "source": [
    "#lets display the down dataset\n",
    "tata.tail()"
   ]
  },
  {
   "cell_type": "code",
   "execution_count": 5,
   "id": "2800aaee-6a98-4ecc-bb4c-c49c2795bdf3",
   "metadata": {},
   "outputs": [
    {
     "data": {
      "text/plain": [
       "Date         0\n",
       "Open         0\n",
       "High         0\n",
       "Low          0\n",
       "Close        0\n",
       "Adj Close    0\n",
       "Volume       0\n",
       "dtype: int64"
      ]
     },
     "execution_count": 5,
     "metadata": {},
     "output_type": "execute_result"
    }
   ],
   "source": [
    "#check the missing value in dataset\n",
    "tata.isnull().sum()"
   ]
  },
  {
   "cell_type": "markdown",
   "id": "d449f4d5-1349-496d-88a0-25df28e3a2e3",
   "metadata": {},
   "source": [
    "This implies that there are no null values in the data set provided."
   ]
  },
  {
   "cell_type": "code",
   "execution_count": 6,
   "id": "79c1ca03-9d53-4af1-9da7-a7e0028298b8",
   "metadata": {},
   "outputs": [
    {
     "data": {
      "text/plain": [
       "0"
      ]
     },
     "execution_count": 6,
     "metadata": {},
     "output_type": "execute_result"
    }
   ],
   "source": [
    "#check the duplicates in the dataset\n",
    "tata.duplicated().sum()"
   ]
  },
  {
   "cell_type": "markdown",
   "id": "dca5e9ae-4d26-49cb-bb5a-fc7a67267ff0",
   "metadata": {},
   "source": [
    "This implies that there are no duplicates values in the data set provided."
   ]
  },
  {
   "cell_type": "code",
   "execution_count": 7,
   "id": "22415e12-625f-4a6e-b36b-5d401df82060",
   "metadata": {},
   "outputs": [
    {
     "data": {
      "text/plain": [
       "Date          object\n",
       "Open         float64\n",
       "High         float64\n",
       "Low          float64\n",
       "Close        float64\n",
       "Adj Close    float64\n",
       "Volume         int64\n",
       "dtype: object"
      ]
     },
     "execution_count": 7,
     "metadata": {},
     "output_type": "execute_result"
    }
   ],
   "source": [
    "#check the data types\n",
    "tata.dtypes"
   ]
  },
  {
   "cell_type": "code",
   "execution_count": 8,
   "id": "5e8c796f-689b-4893-8860-61c3e0a691d0",
   "metadata": {},
   "outputs": [
    {
     "data": {
      "text/html": [
       "<div>\n",
       "<style scoped>\n",
       "    .dataframe tbody tr th:only-of-type {\n",
       "        vertical-align: middle;\n",
       "    }\n",
       "\n",
       "    .dataframe tbody tr th {\n",
       "        vertical-align: top;\n",
       "    }\n",
       "\n",
       "    .dataframe thead th {\n",
       "        text-align: right;\n",
       "    }\n",
       "</style>\n",
       "<table border=\"1\" class=\"dataframe\">\n",
       "  <thead>\n",
       "    <tr style=\"text-align: right;\">\n",
       "      <th></th>\n",
       "      <th>Open</th>\n",
       "      <th>High</th>\n",
       "      <th>Low</th>\n",
       "      <th>Close</th>\n",
       "      <th>Adj Close</th>\n",
       "      <th>Volume</th>\n",
       "    </tr>\n",
       "  </thead>\n",
       "  <tbody>\n",
       "    <tr>\n",
       "      <th>count</th>\n",
       "      <td>5886.000000</td>\n",
       "      <td>5886.000000</td>\n",
       "      <td>5886.000000</td>\n",
       "      <td>5886.000000</td>\n",
       "      <td>5886.000000</td>\n",
       "      <td>5.886000e+03</td>\n",
       "    </tr>\n",
       "    <tr>\n",
       "      <th>mean</th>\n",
       "      <td>219.050581</td>\n",
       "      <td>222.092077</td>\n",
       "      <td>215.580924</td>\n",
       "      <td>218.658936</td>\n",
       "      <td>201.175923</td>\n",
       "      <td>2.586247e+06</td>\n",
       "    </tr>\n",
       "    <tr>\n",
       "      <th>std</th>\n",
       "      <td>161.660368</td>\n",
       "      <td>163.654766</td>\n",
       "      <td>159.364258</td>\n",
       "      <td>161.370974</td>\n",
       "      <td>172.828015</td>\n",
       "      <td>4.579995e+06</td>\n",
       "    </tr>\n",
       "    <tr>\n",
       "      <th>min</th>\n",
       "      <td>12.049999</td>\n",
       "      <td>12.049999</td>\n",
       "      <td>12.049999</td>\n",
       "      <td>12.049999</td>\n",
       "      <td>4.463967</td>\n",
       "      <td>0.000000e+00</td>\n",
       "    </tr>\n",
       "    <tr>\n",
       "      <th>25%</th>\n",
       "      <td>85.247496</td>\n",
       "      <td>86.092497</td>\n",
       "      <td>84.267500</td>\n",
       "      <td>85.125002</td>\n",
       "      <td>42.817844</td>\n",
       "      <td>5.867780e+05</td>\n",
       "    </tr>\n",
       "    <tr>\n",
       "      <th>50%</th>\n",
       "      <td>171.600006</td>\n",
       "      <td>174.800003</td>\n",
       "      <td>168.654999</td>\n",
       "      <td>171.375000</td>\n",
       "      <td>150.500000</td>\n",
       "      <td>1.398945e+06</td>\n",
       "    </tr>\n",
       "    <tr>\n",
       "      <th>75%</th>\n",
       "      <td>350.437492</td>\n",
       "      <td>358.075005</td>\n",
       "      <td>344.650002</td>\n",
       "      <td>352.274994</td>\n",
       "      <td>352.189270</td>\n",
       "      <td>3.121360e+06</td>\n",
       "    </tr>\n",
       "    <tr>\n",
       "      <th>max</th>\n",
       "      <td>646.200012</td>\n",
       "      <td>665.299988</td>\n",
       "      <td>639.000000</td>\n",
       "      <td>640.599976</td>\n",
       "      <td>640.599976</td>\n",
       "      <td>2.190277e+08</td>\n",
       "    </tr>\n",
       "  </tbody>\n",
       "</table>\n",
       "</div>"
      ],
      "text/plain": [
       "              Open         High          Low        Close    Adj Close  \\\n",
       "count  5886.000000  5886.000000  5886.000000  5886.000000  5886.000000   \n",
       "mean    219.050581   222.092077   215.580924   218.658936   201.175923   \n",
       "std     161.660368   163.654766   159.364258   161.370974   172.828015   \n",
       "min      12.049999    12.049999    12.049999    12.049999     4.463967   \n",
       "25%      85.247496    86.092497    84.267500    85.125002    42.817844   \n",
       "50%     171.600006   174.800003   168.654999   171.375000   150.500000   \n",
       "75%     350.437492   358.075005   344.650002   352.274994   352.189270   \n",
       "max     646.200012   665.299988   639.000000   640.599976   640.599976   \n",
       "\n",
       "             Volume  \n",
       "count  5.886000e+03  \n",
       "mean   2.586247e+06  \n",
       "std    4.579995e+06  \n",
       "min    0.000000e+00  \n",
       "25%    5.867780e+05  \n",
       "50%    1.398945e+06  \n",
       "75%    3.121360e+06  \n",
       "max    2.190277e+08  "
      ]
     },
     "execution_count": 8,
     "metadata": {},
     "output_type": "execute_result"
    }
   ],
   "source": [
    "#describe the datasets\n",
    "tata.describe()"
   ]
  },
  {
   "cell_type": "code",
   "execution_count": 9,
   "id": "b5799813-daa8-4d56-b5aa-2e4ecf964a63",
   "metadata": {},
   "outputs": [
    {
     "name": "stdout",
     "output_type": "stream",
     "text": [
      "<class 'pandas.core.frame.DataFrame'>\n",
      "RangeIndex: 5886 entries, 0 to 5885\n",
      "Data columns (total 7 columns):\n",
      " #   Column     Non-Null Count  Dtype  \n",
      "---  ------     --------------  -----  \n",
      " 0   Date       5886 non-null   object \n",
      " 1   Open       5886 non-null   float64\n",
      " 2   High       5886 non-null   float64\n",
      " 3   Low        5886 non-null   float64\n",
      " 4   Close      5886 non-null   float64\n",
      " 5   Adj Close  5886 non-null   float64\n",
      " 6   Volume     5886 non-null   int64  \n",
      "dtypes: float64(5), int64(1), object(1)\n",
      "memory usage: 322.0+ KB\n"
     ]
    }
   ],
   "source": [
    "#Information about the data sets\n",
    "tata.info()"
   ]
  },
  {
   "cell_type": "code",
   "execution_count": 10,
   "id": "358d62c1-17dd-4191-aa6b-b4540d9bcea3",
   "metadata": {},
   "outputs": [
    {
     "data": {
      "text/plain": [
       "(5886, 7)"
      ]
     },
     "execution_count": 10,
     "metadata": {},
     "output_type": "execute_result"
    }
   ],
   "source": [
    "#lets check the row and column\n",
    "tata.shape"
   ]
  },
  {
   "cell_type": "markdown",
   "id": "7712d4b9-21ed-4a0f-ae17-6e78de51feee",
   "metadata": {},
   "source": [
    "From this, we got to know that there are 5886 rows of data available and for each row, we have 7 different features or columns."
   ]
  },
  {
   "cell_type": "code",
   "execution_count": 11,
   "id": "de0bd287-9531-44fe-88d2-6ac9b218371a",
   "metadata": {},
   "outputs": [
    {
     "data": {
      "text/plain": [
       "(1742, 7)"
      ]
     },
     "execution_count": 11,
     "metadata": {},
     "output_type": "execute_result"
    }
   ],
   "source": [
    "#lets check the Close and Adj close column contain same value or not\n",
    "tata[tata['Close'] == tata['Adj Close']].shape"
   ]
  },
  {
   "cell_type": "markdown",
   "id": "8d0b9fa9-ddff-43a8-adc9-e82dc5d3351d",
   "metadata": {},
   "source": [
    "From here we can conclude that some of the rows of columns ‘Close’ and ‘Adj Close’ have the same data."
   ]
  },
  {
   "cell_type": "markdown",
   "id": "8ef69e99-a771-49a8-bf3a-1080804e0b0d",
   "metadata": {},
   "source": [
    "The columns Close and Adj Close represent the closing price and the adjusted closing price of the stock on a given date, respectively. The adjusted closing price accounts for dividends and splits, which may affect the stock price over time. Therefore, the adjusted closing price is more accurate and consistent than the closing price, and it reflects the true value of the stock.\n",
    "\n",
    "I want to analyze or model the stock price, we should use the Adj Close column, as it will give me more reliable and realistic results. So I can drop the Close column, as it is redundant and may introduce noise or errors in my analysis or model."
   ]
  },
  {
   "cell_type": "code",
   "execution_count": 12,
   "id": "a883185a-7ab4-409c-a8d4-734556940b3f",
   "metadata": {},
   "outputs": [
    {
     "data": {
      "text/html": [
       "<div>\n",
       "<style scoped>\n",
       "    .dataframe tbody tr th:only-of-type {\n",
       "        vertical-align: middle;\n",
       "    }\n",
       "\n",
       "    .dataframe tbody tr th {\n",
       "        vertical-align: top;\n",
       "    }\n",
       "\n",
       "    .dataframe thead th {\n",
       "        text-align: right;\n",
       "    }\n",
       "</style>\n",
       "<table border=\"1\" class=\"dataframe\">\n",
       "  <thead>\n",
       "    <tr style=\"text-align: right;\">\n",
       "      <th></th>\n",
       "      <th>Date</th>\n",
       "      <th>Open</th>\n",
       "      <th>High</th>\n",
       "      <th>Low</th>\n",
       "      <th>Adj Close</th>\n",
       "      <th>Volume</th>\n",
       "    </tr>\n",
       "  </thead>\n",
       "  <tbody>\n",
       "    <tr>\n",
       "      <th>0</th>\n",
       "      <td>2000-01-03</td>\n",
       "      <td>43.500000</td>\n",
       "      <td>43.500000</td>\n",
       "      <td>43.500000</td>\n",
       "      <td>16.114737</td>\n",
       "      <td>0</td>\n",
       "    </tr>\n",
       "    <tr>\n",
       "      <th>1</th>\n",
       "      <td>2000-01-04</td>\n",
       "      <td>43.500000</td>\n",
       "      <td>43.500000</td>\n",
       "      <td>43.500000</td>\n",
       "      <td>16.114737</td>\n",
       "      <td>0</td>\n",
       "    </tr>\n",
       "    <tr>\n",
       "      <th>2</th>\n",
       "      <td>2000-01-05</td>\n",
       "      <td>43.500000</td>\n",
       "      <td>43.500000</td>\n",
       "      <td>43.500000</td>\n",
       "      <td>16.114737</td>\n",
       "      <td>0</td>\n",
       "    </tr>\n",
       "    <tr>\n",
       "      <th>3</th>\n",
       "      <td>2000-01-06</td>\n",
       "      <td>43.500000</td>\n",
       "      <td>43.500000</td>\n",
       "      <td>43.500000</td>\n",
       "      <td>16.114737</td>\n",
       "      <td>0</td>\n",
       "    </tr>\n",
       "    <tr>\n",
       "      <th>4</th>\n",
       "      <td>2000-01-07</td>\n",
       "      <td>43.500000</td>\n",
       "      <td>43.500000</td>\n",
       "      <td>43.500000</td>\n",
       "      <td>16.114737</td>\n",
       "      <td>0</td>\n",
       "    </tr>\n",
       "    <tr>\n",
       "      <th>...</th>\n",
       "      <td>...</td>\n",
       "      <td>...</td>\n",
       "      <td>...</td>\n",
       "      <td>...</td>\n",
       "      <td>...</td>\n",
       "      <td>...</td>\n",
       "    </tr>\n",
       "    <tr>\n",
       "      <th>5881</th>\n",
       "      <td>2023-08-28</td>\n",
       "      <td>606.299988</td>\n",
       "      <td>608.400024</td>\n",
       "      <td>601.549988</td>\n",
       "      <td>602.200012</td>\n",
       "      <td>1317553</td>\n",
       "    </tr>\n",
       "    <tr>\n",
       "      <th>5882</th>\n",
       "      <td>2023-08-29</td>\n",
       "      <td>604.900024</td>\n",
       "      <td>610.549988</td>\n",
       "      <td>603.000000</td>\n",
       "      <td>606.549988</td>\n",
       "      <td>524651</td>\n",
       "    </tr>\n",
       "    <tr>\n",
       "      <th>5883</th>\n",
       "      <td>2023-08-30</td>\n",
       "      <td>611.200012</td>\n",
       "      <td>613.000000</td>\n",
       "      <td>604.799988</td>\n",
       "      <td>605.549988</td>\n",
       "      <td>523411</td>\n",
       "    </tr>\n",
       "    <tr>\n",
       "      <th>5884</th>\n",
       "      <td>2023-08-31</td>\n",
       "      <td>608.049988</td>\n",
       "      <td>609.650024</td>\n",
       "      <td>599.099976</td>\n",
       "      <td>601.099976</td>\n",
       "      <td>1242644</td>\n",
       "    </tr>\n",
       "    <tr>\n",
       "      <th>5885</th>\n",
       "      <td>2023-09-01</td>\n",
       "      <td>603.549988</td>\n",
       "      <td>614.799988</td>\n",
       "      <td>601.650024</td>\n",
       "      <td>611.200012</td>\n",
       "      <td>1454215</td>\n",
       "    </tr>\n",
       "  </tbody>\n",
       "</table>\n",
       "<p>5886 rows × 6 columns</p>\n",
       "</div>"
      ],
      "text/plain": [
       "            Date        Open        High         Low   Adj Close   Volume\n",
       "0     2000-01-03   43.500000   43.500000   43.500000   16.114737        0\n",
       "1     2000-01-04   43.500000   43.500000   43.500000   16.114737        0\n",
       "2     2000-01-05   43.500000   43.500000   43.500000   16.114737        0\n",
       "3     2000-01-06   43.500000   43.500000   43.500000   16.114737        0\n",
       "4     2000-01-07   43.500000   43.500000   43.500000   16.114737        0\n",
       "...          ...         ...         ...         ...         ...      ...\n",
       "5881  2023-08-28  606.299988  608.400024  601.549988  602.200012  1317553\n",
       "5882  2023-08-29  604.900024  610.549988  603.000000  606.549988   524651\n",
       "5883  2023-08-30  611.200012  613.000000  604.799988  605.549988   523411\n",
       "5884  2023-08-31  608.049988  609.650024  599.099976  601.099976  1242644\n",
       "5885  2023-09-01  603.549988  614.799988  601.650024  611.200012  1454215\n",
       "\n",
       "[5886 rows x 6 columns]"
      ]
     },
     "execution_count": 12,
     "metadata": {},
     "output_type": "execute_result"
    }
   ],
   "source": [
    "# Drop the \"Close\" column from the datasets\n",
    "\n",
    "tata = tata.drop(['Close'], axis = 1)\n",
    "tata"
   ]
  },
  {
   "cell_type": "code",
   "execution_count": 20,
   "id": "1d6323be-e062-4d2e-9eb4-ec2ab0e9c593",
   "metadata": {},
   "outputs": [
    {
     "data": {
      "image/png": "[encoded data removed]",
      "text/plain": [
       "<Figure size 2000x1000 with 5 Axes>"
      ]
     },
     "metadata": {},
     "output_type": "display_data"
    }
   ],
   "source": [
    "# Define features to plot\n",
    "features = ['Open', 'High', 'Low', 'Adj Close', 'Volume']\n",
    "\n",
    "# Create a figure and a grid of subplots with 2 rows and 3 columns\n",
    "fig, ax = plt.subplots(5, 1, figsize=(20,10))\n",
    "\n",
    "# Loop through each feature and plot its distribution\n",
    "for i, col in enumerate(features):\n",
    "    # Get the subplot in the ith position\n",
    "    axi = ax.flatten()[i]\n",
    "    # Plot the distribution of the feature using seaborn\n",
    "    sns.distplot(tata[col], ax=axi)\n",
    "    # Add a title for the subplot\n",
    "    axi.set_title(col)\n",
    "\n",
    "# Adjust the spacing between subplots\n",
    "plt.tight_layout()\n",
    "\n",
    "# Show the figure\n",
    "plt.show()"
   ]
  },
  {
   "cell_type": "code",
   "execution_count": null,
   "id": "542c6a6e-93c8-4c05-872f-05c2a3a4dce8",
   "metadata": {},
   "outputs": [],
   "source": []
  }
 ],
 "metadata": {
  "kernelspec": {
   "display_name": "Python 3 (ipykernel)",
   "language": "python",
   "name": "python3"
  },
  "language_info": {
   "codemirror_mode": {
    "name": "ipython",
    "version": 3
   },
   "file_extension": ".py",
   "mimetype": "text/x-python",
   "name": "python",
   "nbconvert_exporter": "python",
   "pygments_lexer": "ipython3",
   "version": "3.11.8"
  }
 },
 "nbformat": 4,
 "nbformat_minor": 5
}
